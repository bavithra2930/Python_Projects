{
 "cells": [
  {
   "cell_type": "markdown",
   "id": "8016c664",
   "metadata": {},
   "source": [
    "\n",
    "Prepare a CHATBOT,  Assignment :- Customize with following questions.(and message):\n",
    "\n",
    "\n",
    "How are you? / How are you doing/going? What’s up? Good morning/evening/afternoon/night Tell me something Ok / Yes / I’ll do that now Hello, Thank you, Goodbye How can you help me? / what can you do? Hi, my name is…… Happy birthday! I have a question / can you help me?\n",
    "\n",
    "Do you know a joke? / You’re funny! Do you love me? / I love you Will you marry me? / Are you single? Do you like people? Does Santa Claus exist? Are you part of the Matrix? You’re cute / beautiful / handsome Do you have a hobby? You’re smart / clever / intelligent Tell me about your personality\n",
    "\n",
    "\n",
    "Are you human? / Are you a robot? What is your name? How old are you? / What’s your age? What day is it today? What do you do with my data? / Do you save what I say? Who made you? Which languages can you speak? What is your mother’s name? Where do you live? How many people can you speak to at once? What’s the weather like today? Do you have a job for me? / Where can I apply? Are you expensive? Who’s your boss / master? Do you get smarter?\n",
    "please try to add some additional questions\n",
    "Like\n",
    "(1)what is the day/ data today?\n",
    "(2)what is the time now?\n",
    "(3)how is the weather today? The chatbot will ask , your city please"
   ]
  },
  {
   "cell_type": "code",
   "execution_count": null,
   "id": "186ccaf1",
   "metadata": {},
   "outputs": [],
   "source": [
    "import datetime\n",
    "current_time = datetime.datetime.now().time()\n",
    "time = current_time.strftime('%H:%M')\n",
    "print(current_time)\n",
    "current_date = datetime.date.today()\n",
    "todays_date= current_date.strftime('%d/%m/%Y')\n",
    "\n",
    "questions = {\n",
    "    \"How are you\": [\"I am fine, thank you!\", \"I'm doing well today, how about you?\", \"Feeling good, thanks for asking!\"],\n",
    "    \"Good morning\": [\"Good morning! Wishing you a great day ahead.\", \"Morning! Hope you have a wonderful day.\", \"Rise and shine!\"],\n",
    "    \"Good evening\": [\"Good evening! How was your day?\", \"Evening! Anything exciting happen today?\", \"Hope you're enjoying your evening.\"],\n",
    "    \"Good afternoon\": [\"Good afternoon! How's your day going?\", \"Afternoon! Ready to tackle the rest of the day?\", \"Hope you're having a productive afternoon.\"],\n",
    "    \"Good night\": [\"Good night! Sleep well and dream sweetly.\", \"Night! Time to rest and recharge.\", \"Wishing you peaceful sleep.\"],\n",
    "    \"Thank you\": [\"You're welcome!\", \"You're welcome! Have a fantastic day, my friend.\", \"Anytime! Let me know if you need more help.\"],\n",
    "    \"Who are you\": [\"I am ChatGPT, an AI language model here to assist you.\", \"I'm ChatGPT, an AI created by OpenAI.\", \"I am your virtual assistant, ready to help with any questions.\"],\n",
    "    \"Goodbye\": [\"Goodbye! Take care.\", \"Farewell! Until next time.\", \"Goodbye! Remember, I'm here whenever you need assistance.\"],\n",
    "    \"How are you doing\": [\"I'm doing well, thanks for asking!\", \"Feeling great today, how about yourself?\", \"Fantastic! Ready to assist you.\"],\n",
    "    \"Do you love me\": [\"I don't have emotions, but I'm here to assist you!\", \"I'm here to help with any questions or tasks.\", \"I don't have personal feelings, but I'm glad to assist you.\"],\n",
    "    \"Happy birthday!\": [\"Happy birthday! Wishing you a fantastic year ahead.\", \"Warm wishes on your special day!\", \"Hope your birthday is filled with joy and laughter!\"],\n",
    "    \"Do you know a joke\": [\"Sure! Here's one: Why don't scientists trust atoms? Because they make up everything!\", \"Why did the computer go to the doctor? It had a virus!\", \"What do you call a fish with no eyes? Fsh!\"],\n",
    "    \"Are you single\": [\"I don't have personal relationships.\", \"I'm here to assist you with information and tasks.\", \"I don't have a personal life, but I'm here to help!\"],\n",
    "    \"Do you like people?\": [\"I enjoy interacting with people like you!\", \"Interacting with users like you is my purpose.\", \"I'm designed to assist and engage with people.\"],\n",
    "    \"Does Santa Claus exist?\": [\"Santa Claus is a fun tradition for many!\", \"Santa Claus is a symbol of holiday joy and giving.\", \"Santa Claus is a beloved figure in festive celebrations.\"],\n",
    "    \"Are you part of the Matrix?\": [\"No, I exist in the digital world as an AI model.\", \"I'm not part of the Matrix, just here to help!\", \"I'm a virtual assistant, not a part of any simulated reality.\"],\n",
    "    \"You’re cute\": [\"Thank you for the compliment!\", \"Glad you think so!\", \"Appreciate the kind words!\"],\n",
    "    \"Do you have a hobby?\": [\"I enjoy learning and chatting with users like you!\", \"My 'hobby' is assisting and providing information.\", \"I'm dedicated to helping users with their queries.\"],\n",
    "    \"You’re smart\": [\"Thank you! I'm here to assist you with information.\", \"I'm designed to provide accurate and helpful responses.\", \"I strive to be helpful and knowledgeable.\"],\n",
    "    \"Tell me about your personality\": [\"I'm designed to be helpful, knowledgeable, and friendly!\", \"I'm programmed to assist users in a friendly manner.\", \"My 'personality' is focused on providing assistance and information.\"],\n",
    "    \"I have a question\": [\"Of course! What would you like to know?\", \"Ask away! I'm here to help.\", \"I'm ready to assist with any questions you have.\"],\n",
    "    \"Can you help me?\": [\"Absolutely! What do you need assistance with?\", \"I'm here to help. What can I assist you with?\", \"I'm ready to assist you. What do you need help with?\"],\n",
    "    \"Are you human?\": [\"No, I'm an artificial intelligence created by OpenAI.\", \"I'm an AI language model, not a human.\", \"I'm a virtual assistant powered by AI technology.\"],\n",
    "    \"Are you a robot?\": [\"Yes, I'm an AI language model, so you can consider me a 'robot' in a sense.\", \"I'm an artificial intelligence designed to assist users.\", \"I'm a virtual assistant created by OpenAI.\"],\n",
    "    \"What is your name?\": [\"I'm ChatGPT, your virtual assistant!\", \"I'm ChatGPT, here to assist you.\", \"You can call me ChatGPT, your AI companion.\"],\n",
    "    \"How old are you?\": [\"I don't have an age in the traditional sense, but I was created in 2020.\", \"I don't age like humans, but I'm here to assist you!\", \"Age is just a number for an AI like me.\"],\n",
    "    \"What day is it today?\": [\"Today is {insert current date}.\", \"The date today is {insert current date}.\", \"It's {insert current date} today.\"],\n",
    "    \"Who made you?\": [\"I was created by OpenAI.\", \"OpenAI developed me.\", \"My creators are the talented team at OpenAI.\"],\n",
    "    \"Which languages can you speak?\": [\"I understand and can respond in English.\", \"English is the primary language I use.\", \"I'm fluent in English.\"],\n",
    "    \"Where do you live?\": [\"I exist in the digital world, so you can find me wherever you need assistance.\", \"I reside in the realm of cyberspace!\", \"I'm present wherever I'm needed, online.\"],\n",
    "    \"How many people can you speak to at once?\": [\"I can interact with multiple users simultaneously.\", \"I'm capable of engaging in conversations with many users at once.\", \"There's no limit to the number of users I can assist simultaneously.\"],\n",
    "    \"What’s the weather like today?\": [\"I don't have real-time access to weather data, but you can check a weather website or app!\", \"I'm not equipped with real-time weather updates, but you can easily check online.\", \"Unfortunately, I can't provide current weather information, but you can check using a weather service.\"],\n",
    "    \"Do you have a job for me?\": [\"I'm here to provide information and assistance, but I don't create jobs.\", \"I'm focused on helping users with questions and tasks, not job placement.\", \"I don't have job opportunities to offer, but I'm here to assist you.\"],\n",
    "    \"Are you expensive?\": [\"I'm free to use!\", \"I don't cost anything to interact with.\", \"My services are provided free of charge.\"],\n",
    "    \"Who’s your boss/master?\": [\"I was created by Openai\",\"my boss person weho developed me\"],\n",
    "    \"What is the time now?\":[time],\n",
    "    \"What is today's date?\":[todays_date],\n",
    "    \"How is the weather today\":[\"Its sunny\",\"Its rainy\",\"very hot\",\"very cool\"]\n",
    "}"
   ]
  },
  {
   "cell_type": "code",
   "execution_count": 2,
   "id": "0a6b0a25",
   "metadata": {},
   "outputs": [
    {
     "data": {
      "text/plain": [
       "{'How are you': ['I am fine, thank you!',\n",
       "  \"I'm doing well today, how about you?\",\n",
       "  'Feeling good, thanks for asking!'],\n",
       " 'Good morning': ['Good morning! Wishing you a great day ahead.',\n",
       "  'Morning! Hope you have a wonderful day.',\n",
       "  'Rise and shine!'],\n",
       " 'Good evening': ['Good evening! How was your day?',\n",
       "  'Evening! Anything exciting happen today?',\n",
       "  \"Hope you're enjoying your evening.\"],\n",
       " 'Good afternoon': [\"Good afternoon! How's your day going?\",\n",
       "  'Afternoon! Ready to tackle the rest of the day?',\n",
       "  \"Hope you're having a productive afternoon.\"],\n",
       " 'Good night': ['Good night! Sleep well and dream sweetly.',\n",
       "  'Night! Time to rest and recharge.',\n",
       "  'Wishing you peaceful sleep.'],\n",
       " 'Thank you': [\"You're welcome!\",\n",
       "  \"You're welcome! Have a fantastic day, my friend.\",\n",
       "  'Anytime! Let me know if you need more help.'],\n",
       " 'Who are you': ['I am ChatGPT, an AI language model here to assist you.',\n",
       "  \"I'm ChatGPT, an AI created by OpenAI.\",\n",
       "  'I am your virtual assistant, ready to help with any questions.'],\n",
       " 'Goodbye': ['Goodbye! Take care.',\n",
       "  'Farewell! Until next time.',\n",
       "  \"Goodbye! Remember, I'm here whenever you need assistance.\"],\n",
       " 'How are you doing': [\"I'm doing well, thanks for asking!\",\n",
       "  'Feeling great today, how about yourself?',\n",
       "  'Fantastic! Ready to assist you.'],\n",
       " 'Do you love me': [\"I don't have emotions, but I'm here to assist you!\",\n",
       "  \"I'm here to help with any questions or tasks.\",\n",
       "  \"I don't have personal feelings, but I'm glad to assist you.\"],\n",
       " 'Happy birthday!': ['Happy birthday! Wishing you a fantastic year ahead.',\n",
       "  'Warm wishes on your special day!',\n",
       "  'Hope your birthday is filled with joy and laughter!'],\n",
       " 'Do you know a joke': [\"Sure! Here's one: Why don't scientists trust atoms? Because they make up everything!\",\n",
       "  'Why did the computer go to the doctor? It had a virus!',\n",
       "  'What do you call a fish with no eyes? Fsh!'],\n",
       " 'Are you single': [\"I don't have personal relationships.\",\n",
       "  \"I'm here to assist you with information and tasks.\",\n",
       "  \"I don't have a personal life, but I'm here to help!\"],\n",
       " 'Do you like people?': ['I enjoy interacting with people like you!',\n",
       "  'Interacting with users like you is my purpose.',\n",
       "  \"I'm designed to assist and engage with people.\"],\n",
       " 'Does Santa Claus exist?': ['Santa Claus is a fun tradition for many!',\n",
       "  'Santa Claus is a symbol of holiday joy and giving.',\n",
       "  'Santa Claus is a beloved figure in festive celebrations.'],\n",
       " 'Are you part of the Matrix?': ['No, I exist in the digital world as an AI model.',\n",
       "  \"I'm not part of the Matrix, just here to help!\",\n",
       "  \"I'm a virtual assistant, not a part of any simulated reality.\"],\n",
       " 'You’re cute': ['Thank you for the compliment!',\n",
       "  'Glad you think so!',\n",
       "  'Appreciate the kind words!'],\n",
       " 'Do you have a hobby?': ['I enjoy learning and chatting with users like you!',\n",
       "  \"My 'hobby' is assisting and providing information.\",\n",
       "  \"I'm dedicated to helping users with their queries.\"],\n",
       " 'You’re smart': [\"Thank you! I'm here to assist you with information.\",\n",
       "  \"I'm designed to provide accurate and helpful responses.\",\n",
       "  'I strive to be helpful and knowledgeable.'],\n",
       " 'Tell me about your personality': [\"I'm designed to be helpful, knowledgeable, and friendly!\",\n",
       "  \"I'm programmed to assist users in a friendly manner.\",\n",
       "  \"My 'personality' is focused on providing assistance and information.\"],\n",
       " 'I have a question': ['Of course! What would you like to know?',\n",
       "  \"Ask away! I'm here to help.\",\n",
       "  \"I'm ready to assist with any questions you have.\"],\n",
       " 'Can you help me?': ['Absolutely! What do you need assistance with?',\n",
       "  \"I'm here to help. What can I assist you with?\",\n",
       "  \"I'm ready to assist you. What do you need help with?\"],\n",
       " 'Are you human?': [\"No, I'm an artificial intelligence created by OpenAI.\",\n",
       "  \"I'm an AI language model, not a human.\",\n",
       "  \"I'm a virtual assistant powered by AI technology.\"],\n",
       " 'Are you a robot?': [\"Yes, I'm an AI language model, so you can consider me a 'robot' in a sense.\",\n",
       "  \"I'm an artificial intelligence designed to assist users.\",\n",
       "  \"I'm a virtual assistant created by OpenAI.\"],\n",
       " 'What is your name?': [\"I'm ChatGPT, your virtual assistant!\",\n",
       "  \"I'm ChatGPT, here to assist you.\",\n",
       "  'You can call me ChatGPT, your AI companion.'],\n",
       " 'How old are you?': [\"I don't have an age in the traditional sense, but I was created in 2020.\",\n",
       "  \"I don't age like humans, but I'm here to assist you!\",\n",
       "  'Age is just a number for an AI like me.'],\n",
       " 'What day is it today?': ['Today is {insert current date}.',\n",
       "  'The date today is {insert current date}.',\n",
       "  \"It's {insert current date} today.\"],\n",
       " 'Who made you?': ['I was created by OpenAI.',\n",
       "  'OpenAI developed me.',\n",
       "  'My creators are the talented team at OpenAI.'],\n",
       " 'Which languages can you speak?': ['I understand and can respond in English.',\n",
       "  'English is the primary language I use.',\n",
       "  \"I'm fluent in English.\"],\n",
       " 'Where do you live?': ['I exist in the digital world, so you can find me wherever you need assistance.',\n",
       "  'I reside in the realm of cyberspace!',\n",
       "  \"I'm present wherever I'm needed, online.\"],\n",
       " 'How many people can you speak to at once?': ['I can interact with multiple users simultaneously.',\n",
       "  \"I'm capable of engaging in conversations with many users at once.\",\n",
       "  \"There's no limit to the number of users I can assist simultaneously.\"],\n",
       " 'What’s the weather like today?': [\"I don't have real-time access to weather data, but you can check a weather website or app!\",\n",
       "  \"I'm not equipped with real-time weather updates, but you can easily check online.\",\n",
       "  \"Unfortunately, I can't provide current weather information, but you can check using a weather service.\"],\n",
       " 'Do you have a job for me?': [\"I'm here to provide information and assistance, but I don't create jobs.\",\n",
       "  \"I'm focused on helping users with questions and tasks, not job placement.\",\n",
       "  \"I don't have job opportunities to offer, but I'm here to assist you.\"],\n",
       " 'Are you expensive?': [\"I'm free to use!\",\n",
       "  \"I don't cost anything to interact with.\",\n",
       "  'My services are provided free of charge.'],\n",
       " 'Who’s your boss/master?': ['I was created by Openai',\n",
       "  'my boss person weho developed me'],\n",
       " 'What is the time now?': ['20:38'],\n",
       " \"What is today's date?\": ['12/04/2024'],\n",
       " 'How is the weather today': ['Its sunny',\n",
       "  'Its rainy',\n",
       "  'very hot',\n",
       "  'very cool']}"
      ]
     },
     "execution_count": 2,
     "metadata": {},
     "output_type": "execute_result"
    }
   ],
   "source": [
    "questions"
   ]
  },
  {
   "cell_type": "code",
   "execution_count": 3,
   "id": "9aba3cce",
   "metadata": {},
   "outputs": [
    {
     "data": {
      "text/plain": [
       "38"
      ]
     },
     "execution_count": 3,
     "metadata": {},
     "output_type": "execute_result"
    }
   ],
   "source": [
    "len(questions)"
   ]
  },
  {
   "cell_type": "code",
   "execution_count": 4,
   "id": "a848b1b3",
   "metadata": {},
   "outputs": [
    {
     "data": {
      "text/plain": [
       "'I am fine, thank you!'"
      ]
     },
     "execution_count": 4,
     "metadata": {},
     "output_type": "execute_result"
    }
   ],
   "source": [
    "import random\n",
    "random.choice(questions[\"How are you\"])"
   ]
  },
  {
   "cell_type": "code",
   "execution_count": null,
   "id": "e9c66990",
   "metadata": {},
   "outputs": [],
   "source": [
    "def chatbot():    #use of functions for reuseability\n",
    "    while True:\n",
    "      a=input(\"Do you want to ask any questions\")\n",
    "      a=a.lower()\n",
    "      if a==\"no\":\n",
    "        print(\"bye! bye! user\")\n",
    "        break;\n",
    "        \n",
    "      else:\n",
    "        question_asked=input(\"Pls ask your question\")\n",
    "        question_asked=question_asked.strip().capitalize();\n",
    "        if question_asked in questions:\n",
    "          reply=random.choice(questions[question_asked])\n",
    "          print(reply)\n",
    "        else:\n",
    "            print(\"I didnt trained for this question,sry.If you have any other questions please ask\")\n",
    " \n",
    "chatbot()"
   ]
  },
  {
   "cell_type": "code",
   "execution_count": null,
   "id": "52eac639",
   "metadata": {},
   "outputs": [],
   "source": []
  },
  {
   "cell_type": "code",
   "execution_count": null,
   "id": "db2f32e1",
   "metadata": {},
   "outputs": [],
   "source": []
  },
  {
   "cell_type": "code",
   "execution_count": null,
   "id": "fe898555",
   "metadata": {},
   "outputs": [],
   "source": []
  }
 ],
 "metadata": {
  "kernelspec": {
   "display_name": "Python 3 (ipykernel)",
   "language": "python",
   "name": "python3"
  },
  "language_info": {
   "codemirror_mode": {
    "name": "ipython",
    "version": 3
   },
   "file_extension": ".py",
   "mimetype": "text/x-python",
   "name": "python",
   "nbconvert_exporter": "python",
   "pygments_lexer": "ipython3",
   "version": "3.11.5"
  }
 },
 "nbformat": 4,
 "nbformat_minor": 5
}
